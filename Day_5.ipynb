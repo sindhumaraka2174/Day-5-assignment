{
  "nbformat": 4,
  "nbformat_minor": 0,
  "metadata": {
    "colab": {
      "name": "Day 5",
      "provenance": [],
      "collapsed_sections": []
    },
    "kernelspec": {
      "name": "python3",
      "display_name": "Python 3"
    },
    "language_info": {
      "name": "python"
    }
  },
  "cells": [
    {
      "cell_type": "code",
      "execution_count": null,
      "metadata": {
        "id": "X0XwdDxn0alk"
      },
      "outputs": [],
      "source": [
        "'''For this challenge, create a bank account class that has two attributes:\n",
        "owner\n",
        "balance\n",
        "and two methods:\n",
        "deposit\n",
        "withdraw\n",
        "As an added requirement, withdrawals may not exceed the available balance.\n",
        "Instantiate your class, make several deposits and withdrawals, and test to make sure the account can't be overdrawn.\n",
        "In [ ]:'''\n",
        "class Account:\n",
        "  def __init__(self, owner, balance=0):\n",
        "       self.owner = owner\n",
        "       self.balance = balance\n",
        "  def __str__(self):\n",
        "       return \"Account owner: suresh \\nAccount balance: 200\"\n",
        "  def deposit(self, dep_amt):\n",
        "       self.balance += dep_amt\n",
        "       print(\"Deposit Accepted\")\n",
        "  def widthraw(self, wd_amt):\n",
        "      try:\n",
        "          if self.balance >= wd_amt:\n",
        "            self.balance -= wd_amt\n",
        "            print(\"Withdrwal accepted\")\n",
        "          else:\n",
        "            print(\"Funds unavailable\")\n",
        "      except ValueError:\n",
        "         print(\"valueerror for fund\")"
      ]
    },
    {
      "cell_type": "code",
      "source": [
        "# 1. Instantiate the class\n",
        "class Account:\n",
        "  def __init__(self, owner, balance=0):\n",
        "       self.owner = owner\n",
        "       self.balance = balance\n",
        "sam = Account(owner = 'suresh')\n",
        "frank=Account(owner=\"sindhu\",balance = 200)\n",
        "print(frank.balance)\n",
        "print(sam.owner)"
      ],
      "metadata": {
        "colab": {
          "base_uri": "https://localhost:8080/"
        },
        "id": "YKyWLoT31I6H",
        "outputId": "d5a1ac19-f5e6-401f-ae32-1857cb8d969a"
      },
      "execution_count": 2,
      "outputs": [
        {
          "output_type": "stream",
          "name": "stdout",
          "text": [
            "100\n",
            "suresh\n"
          ]
        }
      ]
    },
    {
      "cell_type": "code",
      "source": [
        "# 2. Print the object\n",
        "frank=Account(owner = 'suresh')\n",
        "print(frank)"
      ],
      "metadata": {
        "colab": {
          "base_uri": "https://localhost:8080/"
        },
        "id": "fLl_jKTu2RZw",
        "outputId": "69fecec6-1b13-4a1f-ef55-ecf1e1be0b82"
      },
      "execution_count": 3,
      "outputs": [
        {
          "output_type": "stream",
          "name": "stdout",
          "text": [
            "<__main__.Account object at 0x7f38082a6e50>\n"
          ]
        }
      ]
    },
    {
      "cell_type": "code",
      "source": [
        "# 3. Show the account owner attribute\n",
        "class Account:\n",
        "  def __init__(self, owner):\n",
        "       self.owner = owner\n",
        "frank=Account(owner = 'suresh')\n",
        "frank.owner"
      ],
      "metadata": {
        "colab": {
          "base_uri": "https://localhost:8080/",
          "height": 35
        },
        "id": "Rk3TmDSf2pED",
        "outputId": "5ae1bed2-b170-47bf-80fe-56d20c7ad78d"
      },
      "execution_count": 4,
      "outputs": [
        {
          "output_type": "execute_result",
          "data": {
            "application/vnd.google.colaboratory.intrinsic+json": {
              "type": "string"
            },
            "text/plain": [
              "'suresh'"
            ]
          },
          "metadata": {},
          "execution_count": 4
        }
      ]
    },
    {
      "cell_type": "code",
      "source": [
        "# 4. Show the account balance attribute\n",
        "class Account:\n",
        "  def __init__(self,balance=0):\n",
        "       self.balance = balance\n",
        "frank=Account(balance='200')\n",
        "frank.balance()"
      ],
      "metadata": {
        "id": "P5TzUfe67xBP"
      },
      "execution_count": null,
      "outputs": []
    },
    {
      "cell_type": "code",
      "source": [
        "#5. Make a series of deposits and withdrawals\n",
        "class Account:\n",
        "  def __init__(self, owner, balance=0):\n",
        "       self.owner = owner\n",
        "       self.balance = balance\n",
        "  def __str__(self):\n",
        "       return \"Account owner: suresh \\nAccount balance: 200\"\n",
        "  def deposit(self, dep_amt):\n",
        "       self.balance += dep_amt\n",
        "       print(\"Deposit Accepted\")\n",
        "  def widthraw(self, wd_amt):\n",
        "      try:\n",
        "          if self.balance >= wd_amt:\n",
        "            self.balance -= wd_amt\n",
        "            print(\"Withdrwal accepted\")\n",
        "          else:\n",
        "            print(\"Funds unavailable\")\n",
        "      except ValueError:\n",
        "         print(\"valueerror for fund\")\n",
        "frank = Account(owner=\"sindhu\",balance = 1100)\n",
        "frank.deposit(dep_amt = 200)\n",
        "frank.widthraw(wd_amt = 50)\n",
        "print(frank.balance)"
      ],
      "metadata": {
        "colab": {
          "base_uri": "https://localhost:8080/"
        },
        "id": "e8n5QIJ95xV5",
        "outputId": "55559579-8753-4624-d35c-5c66ef6b778f"
      },
      "execution_count": 16,
      "outputs": [
        {
          "output_type": "stream",
          "name": "stdout",
          "text": [
            "Deposit Accepted\n",
            "Withdrwal accepted\n",
            "1250\n"
          ]
        }
      ]
    },
    {
      "cell_type": "code",
      "source": [
        "# 6. Make a withdrawal that exceeds the available balance\n",
        "frank = Account(owner=\"sindhu\",balance = 1100)\n",
        "frank.widthraw(wd_amt=2000)"
      ],
      "metadata": {
        "colab": {
          "base_uri": "https://localhost:8080/"
        },
        "id": "81pjLZ6k7KRW",
        "outputId": "ea16ae3b-ede2-4598-aac1-6b33954b7318"
      },
      "execution_count": 17,
      "outputs": [
        {
          "output_type": "stream",
          "name": "stdout",
          "text": [
            "Funds unavailable\n"
          ]
        }
      ]
    }
  ]
}